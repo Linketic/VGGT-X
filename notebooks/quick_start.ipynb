{
 "cells": [
  {
   "cell_type": "code",
   "execution_count": 1,
   "metadata": {},
   "outputs": [
    {
     "name": "stderr",
     "output_type": "stream",
     "text": [
      "/data1/jing_li/anaconda3/envs/vggt/lib/python3.9/site-packages/tqdm/auto.py:21: TqdmWarning: IProgress not found. Please update jupyter and ipywidgets. See https://ipywidgets.readthedocs.io/en/stable/user_install.html\n",
      "  from .autonotebook import tqdm as notebook_tqdm\n"
     ]
    }
   ],
   "source": [
    "import os\n",
    "import sys\n",
    "sys.path.append('../')\n",
    "os.environ['CUDA_VISIBLE_DEVICES'] = '7'\n",
    "\n",
    "import numpy as np\n",
    "import torch\n",
    "from scipy.sparse import lil_matrix\n",
    "from scipy.optimize import least_squares\n",
    "\n",
    "from vggt.models.vggt import VGGT\n",
    "from vggt.utils.load_fn import load_and_preprocess_images\n",
    "\n",
    "device = \"cuda\" if torch.cuda.is_available() else \"cpu\"\n",
    "# bfloat16 is supported on Ampere GPUs (Compute Capability 8.0+) \n",
    "dtype = torch.bfloat16 if torch.cuda.get_device_capability()[0] >= 8 else torch.float16"
   ]
  },
  {
   "cell_type": "code",
   "execution_count": 2,
   "metadata": {},
   "outputs": [],
   "source": [
    "def save_ply(pcd_xyz, pcd_rgb):\n",
    "    from plyfile import PlyData, PlyElement\n",
    "    # ensure pcd_xyz and pcd_rgb have the correct shape\n",
    "    assert pcd_xyz.shape[0] == pcd_rgb.shape[0], \"The number of points in the point cloud should be the same\"\n",
    "    assert pcd_xyz.shape[1] == 3, \"The point cloud coordinate should be of shape (N, 3)\"\n",
    "    assert pcd_rgb.shape[1] == 3, \"The point cloud color should be of shape (N, 3)\"\n",
    "\n",
    "    # transform color to uint8 (assuming color values are in the range of 0-255 or 0-1)\n",
    "    if pcd_rgb.dtype != np.uint8:\n",
    "        if np.max(pcd_rgb) <= 1.0:\n",
    "            pcd_rgb = (pcd_rgb * 255).astype(np.uint8)\n",
    "        else:\n",
    "            pcd_rgb = pcd_rgb.astype(np.uint8)\n",
    "\n",
    "    # create a structured array\n",
    "    vertex_dtype = [('x', 'f4'), ('y', 'f4'), ('z', 'f4'),\n",
    "                    ('red', 'u1'), ('green', 'u1'), ('blue', 'u1')]\n",
    "    vertices = np.empty(pcd_xyz.shape[0], dtype=vertex_dtype)\n",
    "\n",
    "    # fill in the structured array\n",
    "    vertices['x'] = pcd_xyz[:, 0].astype('f4')\n",
    "    vertices['y'] = pcd_xyz[:, 1].astype('f4')\n",
    "    vertices['z'] = pcd_xyz[:, 2].astype('f4')\n",
    "    vertices['red'] = pcd_rgb[:, 0]\n",
    "    vertices['green'] = pcd_rgb[:, 1]\n",
    "    vertices['blue'] = pcd_rgb[:, 2]\n",
    "\n",
    "    # create and save the ply file\n",
    "    ply_element = PlyElement.describe(vertices, 'vertex')\n",
    "    PlyData([ply_element]).write('colored_point_cloud.ply')"
   ]
  },
  {
   "cell_type": "code",
   "execution_count": 3,
   "metadata": {},
   "outputs": [],
   "source": [
    "# Initialize the model and load the pretrained weights.\n",
    "# This will automatically download the model weights the first time it's run, which may take a while.\n",
    "model = VGGT.from_pretrained(\"facebook/VGGT-1B\").to(device)"
   ]
  },
  {
   "cell_type": "code",
   "execution_count": null,
   "metadata": {},
   "outputs": [],
   "source": [
    "# Load and preprocess example images (replace with your own image paths)\n",
    "images_path = \"../data/GauU_Scene/SMBU/images_3.4175\"\n",
    "image_names = os.listdir(images_path)\n",
    "image_names = [os.path.join(images_path, name) for name in image_names if name.endswith(('.jpg', '.png', '.JPG', '.PNG'))]\n",
    "images = load_and_preprocess_images(image_names[:150]).to(device)\n",
    "\n",
    "with torch.no_grad():\n",
    "    with torch.cuda.amp.autocast(dtype=dtype):\n",
    "        # Predict attributes including cameras, depth maps, and point maps.\n",
    "        predictions = model(images)"
   ]
  },
  {
   "cell_type": "code",
   "execution_count": 23,
   "metadata": {},
   "outputs": [
    {
     "name": "stdout",
     "output_type": "stream",
     "text": [
      "Number of points in the point cloud: 27195000\n"
     ]
    }
   ],
   "source": [
    "conf_threshold = 0.5\n",
    "downsample_interval = 10\n",
    "pcd_xyz = predictions['world_points'].reshape(-1, 3)\n",
    "pcd_rgb = predictions['images'].permute(0, 1, 3, 4, 2).reshape(-1, 3)\n",
    "pcd_conf = predictions['world_points_conf'].reshape(-1)\n",
    "pcd_xyz = pcd_xyz[pcd_conf > conf_threshold].cpu().numpy()\n",
    "pcd_rgb = pcd_rgb[pcd_conf > conf_threshold].cpu().numpy()\n",
    "print(f\"Number of points in the point cloud: {pcd_xyz.shape[0]}\")\n",
    "save_ply(pcd_xyz[::downsample_interval], pcd_rgb[::downsample_interval])"
   ]
  }
 ],
 "metadata": {
  "kernelspec": {
   "display_name": "vggt",
   "language": "python",
   "name": "python3"
  },
  "language_info": {
   "codemirror_mode": {
    "name": "ipython",
    "version": 3
   },
   "file_extension": ".py",
   "mimetype": "text/x-python",
   "name": "python",
   "nbconvert_exporter": "python",
   "pygments_lexer": "ipython3",
   "version": "3.9.22"
  }
 },
 "nbformat": 4,
 "nbformat_minor": 2
}
