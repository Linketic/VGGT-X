{
 "cells": [
  {
   "cell_type": "code",
   "execution_count": 1,
   "metadata": {},
   "outputs": [
    {
     "name": "stdout",
     "output_type": "stream",
     "text": [
      "Jupyter environment detected. Enabling Open3D WebVisualizer.\n",
      "[Open3D INFO] WebRTC GUI backend enabled.\n",
      "[Open3D INFO] WebRTCWindowSystem: HTTP handshake server disabled.\n"
     ]
    }
   ],
   "source": [
    "%matplotlib inline\n",
    "\n",
    "import os\n",
    "import sys\n",
    "sys.path.append('../')\n",
    "os.environ['CUDA_VISIBLE_DEVICES'] = '6'\n",
    "\n",
    "import glob\n",
    "import random\n",
    "import cv2\n",
    "import numpy as np\n",
    "import networkx as nx\n",
    "import torch\n",
    "import torch.nn.functional as F\n",
    "\n",
    "import roma\n",
    "import kornia\n",
    "import utils.colmap as colmap_utils\n",
    "import utils.opt as opt_utils\n",
    "\n",
    "from tqdm import tqdm\n",
    "from copy import deepcopy\n",
    "from PIL import Image\n",
    "from matplotlib import pyplot as plt\n",
    "\n",
    "from vggt.models.vggt import VGGT\n",
    "from vggt.utils.load_fn import load_and_preprocess_images_ratio\n",
    "from vggt.utils.pose_enc import pose_encoding_to_extri_intri\n",
    "from vggt.utils.geometry import unproject_depth_map_to_point_map\n",
    "\n",
    "from utils.umeyama import umeyama\n",
    "from utils.metric_torch import evaluate_auc, evaluate_pcd\n",
    "\n",
    "seed = 42\n",
    "random.seed(seed)\n",
    "np.random.seed(seed)\n",
    "torch.manual_seed(seed)\n",
    "random.seed(seed)\n",
    "\n",
    "device = \"cuda\" if torch.cuda.is_available() else \"cpu\"\n",
    "# bfloat16 is supported on Ampere GPUs (Compute Capability 8.0+) \n",
    "dtype = torch.bfloat16 if torch.cuda.get_device_capability()[0] >= 8 else torch.float16"
   ]
  },
  {
   "cell_type": "code",
   "execution_count": 2,
   "metadata": {},
   "outputs": [
    {
     "name": "stdout",
     "output_type": "stream",
     "text": [
      "Model loaded\n"
     ]
    }
   ],
   "source": [
    "torch._dynamo.config.accumulated_cache_size_limit = 512\n",
    "\n",
    "# Run VGGT for camera and depth estimation\n",
    "model = VGGT()\n",
    "_URL = \"https://huggingface.co/facebook/VGGT-1B/resolve/main/model.pt\"\n",
    "model.load_state_dict(torch.hub.load_state_dict_from_url(_URL))\n",
    "model.eval()\n",
    "model = model.to(device).to(dtype)\n",
    "print(f\"Model loaded\")"
   ]
  },
  {
   "cell_type": "code",
   "execution_count": 3,
   "metadata": {},
   "outputs": [],
   "source": [
    "def run_VGGT(images, device, dtype):\n",
    "    # images: [B, 3, H, W]\n",
    "\n",
    "    with torch.no_grad():\n",
    "        predictions = model(images.to(device, dtype), verbose=True)\n",
    "        extrinsic, intrinsic = pose_encoding_to_extri_intri(predictions['pose_enc'], images.shape[-2:])\n",
    "        extrinsic = extrinsic.squeeze(0).cpu().numpy()\n",
    "        intrinsic = intrinsic.squeeze(0).cpu().numpy()\n",
    "        depth_map = predictions['depth'].squeeze(0).cpu().numpy()\n",
    "        depth_conf = predictions['depth_conf'].squeeze(0).cpu().numpy()\n",
    "        track_feats = predictions['track_feats'].squeeze(0).cpu()\n",
    "    \n",
    "    return extrinsic, intrinsic, depth_map, depth_conf, track_feats"
   ]
  },
  {
   "cell_type": "code",
   "execution_count": 5,
   "metadata": {},
   "outputs": [],
   "source": [
    "# Get image paths and preprocess them\n",
    "data_dir = \"../data/MipNeRF360/stump\"\n",
    "sparse_dir_gt = os.path.join(data_dir, \"sparse\", \"0\")\n",
    "dust_dir = os.path.join(data_dir, \"mast3r\")\n",
    "image_dir = os.path.join(data_dir, \"images\")\n",
    "scene = os.path.basename(data_dir)\n",
    "\n",
    "cameras_gt = colmap_utils.read_cameras_binary(os.path.join(sparse_dir_gt, \"cameras.bin\"))\n",
    "images_gt = colmap_utils.read_images_binary(os.path.join(sparse_dir_gt, \"images.bin\"))\n",
    "pcd_gt = colmap_utils.read_points3D_binary(os.path.join(sparse_dir_gt, \"points3D.bin\"))\n",
    "# images_gt = dict(sorted(images_gt.items(), key=lambda item: item[0]))"
   ]
  },
  {
   "cell_type": "code",
   "execution_count": 6,
   "metadata": {},
   "outputs": [],
   "source": [
    "images_gt_keys = list(images_gt.keys())\n",
    "random.shuffle(images_gt_keys)\n",
    "images_gt_updated = {id: images_gt[id] for id in list(images_gt_keys)}\n",
    "image_path_list = [os.path.join(image_dir, images_gt_updated[id].name) for id in images_gt_updated.keys()]\n",
    "base_image_path_list = [os.path.basename(path) for path in image_path_list]\n",
    "\n",
    "img_load_resolution = 518\n",
    "images, original_coords = load_and_preprocess_images_ratio(image_path_list, img_load_resolution)\n",
    "original_coords = original_coords.to(device)"
   ]
  },
  {
   "cell_type": "code",
   "execution_count": 7,
   "metadata": {},
   "outputs": [
    {
     "name": "stdout",
     "output_type": "stream",
     "text": [
      "Running patch embedding\n"
     ]
    },
    {
     "name": "stderr",
     "output_type": "stream",
     "text": [
      "Running attention: 100%|██████████| 24/24 [00:20<00:00,  1.19it/s]\n"
     ]
    },
    {
     "name": "stdout",
     "output_type": "stream",
     "text": [
      "Running camera head\n"
     ]
    },
    {
     "name": "stderr",
     "output_type": "stream",
     "text": [
      "/data1/jing_li/anaconda3/envs/vggt_310_bkup/lib/python3.10/site-packages/torch/_inductor/compile_fx.py:124: UserWarning: TensorFloat32 tensor cores for float32 matrix multiplication available but not enabled. Consider setting `torch.set_float32_matmul_precision('high')` for better performance.\n",
      "  warnings.warn(\n"
     ]
    },
    {
     "name": "stdout",
     "output_type": "stream",
     "text": [
      "Running depth head\n",
      "Running point head\n",
      "Running track head\n"
     ]
    }
   ],
   "source": [
    "extrinsic, intrinsic, depth_map, depth_conf, track_feats = run_VGGT(images, device, dtype)\n",
    "torch.cuda.empty_cache()"
   ]
  },
  {
   "cell_type": "code",
   "execution_count": 8,
   "metadata": {},
   "outputs": [
    {
     "name": "stdout",
     "output_type": "stream",
     "text": [
      "    --  Umeyama Scale:  4.904647153742628\n",
      "    --  Umeyama Rotation: \n",
      " [[-0.45279128 -0.16464489  0.87628313]\n",
      " [ 0.63141573  0.63468889  0.44551565]\n",
      " [-0.62951907  0.75502452 -0.18342226]]\n",
      "    --  Umeyama Translation: \n",
      " [[-3.26931152]\n",
      " [-0.31861757]\n",
      " [ 2.37706621]]\n",
      "    --  Pair Rot   Error (Deg) of Vanilla:       0.92\n",
      "    --  Pair Trans Error (Deg) of Vanilla:       2.90\n",
      "    --  AUC at 30: 0.9197\n"
     ]
    },
    {
     "name": "stderr",
     "output_type": "stream",
     "text": [
      "/tmp/ipykernel_72312/4258586071.py:1: UserWarning: Creating a tensor from a list of numpy.ndarrays is extremely slow. Please consider converting the list to a single numpy.ndarray with numpy.array() before converting to a tensor. (Triggered internally at ../torch/csrc/utils/tensor_new.cpp:274.)\n",
      "  fl_gt = torch.tensor([cameras_gt[image.camera_id].params[0:2] for image in images_gt_updated.values()], device=device)\n"
     ]
    }
   ],
   "source": [
    "fl_gt = torch.tensor([cameras_gt[image.camera_id].params[0:2] for image in images_gt_updated.values()], device=device)\n",
    "translation_gt = torch.tensor([image.tvec for image in images_gt_updated.values()], device=device)\n",
    "rotation_gt = torch.tensor([colmap_utils.qvec2rotmat(image.qvec) for image in images_gt_updated.values()], device=device)\n",
    "\n",
    "# gt w2c\n",
    "gt_se3 = torch.eye(4, device=device).unsqueeze(0).repeat(len(images_gt_updated), 1, 1)\n",
    "gt_se3[:, :3, :3] = rotation_gt\n",
    "gt_se3[:, 3, :3] = translation_gt\n",
    "\n",
    "# pred w2c\n",
    "pred_se3 = torch.eye(4, device=device).unsqueeze(0).repeat(len(images_gt_updated), 1, 1)\n",
    "pred_se3[:, :3, :3] = torch.tensor(extrinsic[:, :3, :3], device=device)\n",
    "pred_se3[:, 3, :3] = torch.tensor(extrinsic[:, :3, 3], device=device)\n",
    "\n",
    "results = evaluate_auc(pred_se3, gt_se3, device)"
   ]
  },
  {
   "cell_type": "markdown",
   "metadata": {},
   "source": [
    "## 1. Calculate Tracking"
   ]
  },
  {
   "cell_type": "code",
   "execution_count": 19,
   "metadata": {},
   "outputs": [],
   "source": [
    "@torch.inference_mode()\n",
    "def vggt_extract_matches(model, extrinsic, intrinsic, depth_conf, track_feats, base_image_path_list, \n",
    "                         max_query_pts=4096, batch_size=32, conf_threshold=None, device='cuda'):\n",
    "    \n",
    "    track_feats = track_feats.to(device)\n",
    "    pairs, pairs_cnt = opt_utils.image_pair_candidates(extrinsic, 30, unique_pairs=True)\n",
    "    print(\"Total candidate image pairs found: \", pairs_cnt)\n",
    "\n",
    "    indexes_i = list(range(len(base_image_path_list)-1))  # except for the last image \n",
    "    # indexes_j = [np.random.choice(pairs[idx_i], min(20, len(pairs[idx_i])), replace=False) for idx_i in indexes_i]\n",
    "    indexes_j = [pairs[idx_i] for idx_i in indexes_i]\n",
    "    indexes_i_updated = []\n",
    "    indexes_j_updated = []\n",
    "\n",
    "    if conf_threshold is None:\n",
    "        conf_threshold = np.percentile(depth_conf, 50)\n",
    "        print(f\"Confidence threshold is set to {conf_threshold:.4f}\")\n",
    "    score_threshold = conf_threshold * 0.05\n",
    "    matches_list = []\n",
    "\n",
    "    for i in tqdm(range(0, len(indexes_i)), desc=\"Matching image pairs...\"):\n",
    "        index_j_updated = []\n",
    "\n",
    "        for j in range(0, len(indexes_j[i]), batch_size):\n",
    "            end_j = min(j + batch_size, len(indexes_j[i]))\n",
    "            index = [i] + indexes_j[i][j:end_j]\n",
    "            masks_src = (depth_conf[i:i+1] > conf_threshold)\n",
    "            if not masks_src.any():\n",
    "                continue\n",
    "\n",
    "            valid_index = np.where(masks_src.flatten())[0].tolist()\n",
    "            mark_points = np.random.choice(valid_index, min(max_query_pts, len(valid_index)), replace=False).tolist()\n",
    "\n",
    "            query_points_list = []\n",
    "            for point in mark_points:\n",
    "                x, y = divmod(point, depth_conf.shape[1])\n",
    "                query_points_list.append([x, y])\n",
    "            query_points = torch.FloatTensor(query_points_list).to(device, dtype)\n",
    "\n",
    "            track_list, vis_score, conf_score = model.track_head.tracker(query_points=query_points[None], \n",
    "                                                                        fmaps=track_feats[index][None], \n",
    "                                                                        iters=model.track_head.iters)\n",
    "            \n",
    "            valid_track_score_mask = (conf_score > score_threshold) & (vis_score > score_threshold)\n",
    "            for k in range(1, len(index)):\n",
    "                track_src = track_list[-1][0, 0]\n",
    "                track_tgt = track_list[-1][0, k]\n",
    "                track_pair = torch.cat([track_src, track_tgt], dim=-1)\n",
    "                track_mask = valid_track_score_mask[0, k] & valid_track_score_mask[0, 0]\n",
    "                if torch.any(track_mask):\n",
    "                    matches_list.append(track_pair[track_mask])\n",
    "                    index_j_updated.append(indexes_j[i][j+k-1])\n",
    "        \n",
    "        if len(index_j_updated) > 0:\n",
    "            indexes_i_updated.append([i]*len(index_j_updated))\n",
    "            indexes_j_updated.append(index_j_updated)\n",
    "\n",
    "    num_matches = [len(m) for m in matches_list]\n",
    "\n",
    "    indexes_i_expanded = []\n",
    "    indexes_j_expanded = []\n",
    "\n",
    "    indexes_i = np.concatenate(indexes_i_updated).tolist()\n",
    "    indexes_j = np.concatenate(indexes_j_updated).tolist()\n",
    "\n",
    "    for idx, n in enumerate(num_matches):\n",
    "        indexes_i_expanded.append(np.array([indexes_i[idx]] * n, dtype=np.int64))\n",
    "        indexes_j_expanded.append(np.array([indexes_j[idx]] * n, dtype=np.int64))\n",
    "    indexes_i_expanded = np.concatenate(indexes_i_expanded)\n",
    "    indexes_j_expanded = np.concatenate(indexes_j_expanded)\n",
    "\n",
    "    image_names_i = np.array(base_image_path_list)[indexes_i_expanded]\n",
    "    image_names_j = np.array(base_image_path_list)[indexes_j_expanded]\n",
    "\n",
    "    corr_points_i = torch.cat([matches_list[k][:, :2] for k in range(len(matches_list))], dim=0).cpu()\n",
    "    corr_points_j = torch.cat([matches_list[k][:, 2:] for k in range(len(matches_list))], dim=0).cpu()\n",
    "\n",
    "    intrinsic_i = np.zeros((corr_points_i.shape[0], 4, 4), dtype=np.float32)\n",
    "    intrinsic_j = np.zeros((corr_points_j.shape[0], 4, 4), dtype=np.float32)\n",
    "    intrinsic_i[:, :3, :3] = intrinsic[indexes_i_expanded]\n",
    "    intrinsic_j[:, :3, :3] = intrinsic[indexes_j_expanded]\n",
    "    intrinsic_i[:, 3, 3] = 1.0\n",
    "    intrinsic_j[:, 3, 3] = 1.0\n",
    "\n",
    "    extrinsic_i = np.zeros((corr_points_i.shape[0], 4, 4), dtype=np.float32)\n",
    "    extrinsic_j = np.zeros((corr_points_j.shape[0], 4, 4), dtype=np.float32)\n",
    "    extrinsic_i[:, :3, :4] = extrinsic[indexes_i_expanded]\n",
    "    extrinsic_j[:, :3, :4] = extrinsic[indexes_j_expanded]\n",
    "    extrinsic_i[:, 3, 3] = 1.0\n",
    "    extrinsic_j[:, 3, 3] = 1.0\n",
    "\n",
    "    device = corr_points_i.device\n",
    "\n",
    "    intrinsic_i_tensor = torch.FloatTensor(intrinsic_i).to(device)\n",
    "    intrinsic_j_tensor = torch.FloatTensor(intrinsic_j).to(device)\n",
    "    extrinsic_i_tensor = torch.FloatTensor(extrinsic_i).to(device)\n",
    "    extrinsic_j_tensor = torch.FloatTensor(extrinsic_j).to(device)\n",
    "    corr_points_i = corr_points_i.to(extrinsic_i_tensor.dtype)\n",
    "    corr_points_j = corr_points_j.to(extrinsic_i_tensor.dtype)\n",
    "\n",
    "    P_i = intrinsic_i_tensor @ extrinsic_i_tensor\n",
    "    P_j = intrinsic_j_tensor @ extrinsic_j_tensor\n",
    "    Fm = kornia.geometry.epipolar.fundamental_from_projections(P_i[:, :3], P_j[:, :3])\n",
    "    err = kornia.geometry.symmetrical_epipolar_distance(corr_points_i[:, None, :2], corr_points_j[:, None, :2], Fm, squared=False, eps=1e-08)\n",
    "    \n",
    "    hist, bin_edges = torch.histogram(err.cpu(), bins=100, range=(0, 20), density=True)  # move to cpu to avoid CUDA \"backend\"\n",
    "    corr_weights = torch.zeros_like(err)\n",
    "    for i in range(len(bin_edges) - 1):\n",
    "        mask = (err >= bin_edges[i]) & (err < bin_edges[i + 1])\n",
    "        if torch.any(mask):\n",
    "            corr_weights[mask] = (hist[i] * (bin_edges[i + 1] - bin_edges[i])) / (bin_edges[-1] - bin_edges[0])\n",
    "    corr_weights /= corr_weights.mean()\n",
    "    \n",
    "    # set corr_weights to 0 for points outside the image frame\n",
    "    in_frame_i = (corr_points_i[..., 0] > depth_conf.shape[-1]) & (corr_points_i[..., 0] < 0) & \\\n",
    "                    (corr_points_i[..., 1] > depth_conf.shape[-2]) & (corr_points_i[..., 1] < 0)\n",
    "    in_frame_j = (corr_points_j[..., 0] > depth_conf.shape[-1]) & (corr_points_j[..., 0] < 0) & \\\n",
    "                    (corr_points_j[..., 1] > depth_conf.shape[-2]) & (corr_points_j[..., 1] < 0)\n",
    "    corr_weights[in_frame_i & in_frame_j] = 0.0\n",
    "    \n",
    "    # rearrange corr_points_i_normalized and corr_points_j_normalized to (P, N, 2)\n",
    "    P, N = len(num_matches), max(num_matches)\n",
    "    corr_points_i_batched = torch.zeros((P, N, 2), dtype=corr_points_i.dtype, device=corr_points_i.device)\n",
    "    corr_points_j_batched = torch.zeros((P, N, 2), dtype=corr_points_j.dtype, device=corr_points_j.device)\n",
    "    corr_weights_batched = torch.zeros((P, N, 1), dtype=corr_weights.dtype, device=corr_weights.device)\n",
    "    image_names_i_batched = np.zeros((P), dtype=image_names_i.dtype)\n",
    "    image_names_j_batched = np.zeros((P), dtype=image_names_j.dtype)\n",
    "\n",
    "    start_idx = 0\n",
    "    for p in range(P):\n",
    "        end_idx = start_idx + num_matches[p]\n",
    "        corr_points_i_batched[p, :num_matches[p]] = corr_points_i[start_idx:end_idx]\n",
    "        corr_points_j_batched[p, :num_matches[p]] = corr_points_j[start_idx:end_idx]\n",
    "        corr_weights_batched[p, :num_matches[p]] = corr_weights[start_idx:end_idx]\n",
    "        image_names_i_batched[p] = image_names_i[start_idx]\n",
    "        image_names_j_batched[p] = image_names_j[start_idx]\n",
    "        assert (image_names_i[start_idx:end_idx] == image_names_i_batched[p]).all()\n",
    "        assert (image_names_j[start_idx:end_idx] == image_names_j_batched[p]).all()\n",
    "        start_idx = end_idx\n",
    "    \n",
    "    output_dict = {\n",
    "        \"corr_points_i\": corr_points_i_batched,\n",
    "        \"corr_points_j\": corr_points_j_batched,\n",
    "        \"corr_weights\": corr_weights_batched,\n",
    "        \"image_names_i\": image_names_i_batched,\n",
    "        \"image_names_j\": image_names_j_batched,\n",
    "        \"num_matches\": num_matches,\n",
    "        \"epipolar_err\": err.median().item()\n",
    "    }\n",
    "\n",
    "    return output_dict"
   ]
  },
  {
   "cell_type": "code",
   "execution_count": 20,
   "metadata": {},
   "outputs": [
    {
     "name": "stdout",
     "output_type": "stream",
     "text": [
      "Total candidate image pairs found:  640\n",
      "Confidence threshold is set to 2.1960\n"
     ]
    },
    {
     "name": "stderr",
     "output_type": "stream",
     "text": [
      "Matching image pairs...: 100%|██████████| 124/124 [00:37<00:00,  3.32it/s]\n"
     ]
    }
   ],
   "source": [
    "target_match_dir = f\"./matches_{scene}.pt\"\n",
    "if os.path.exists(target_match_dir):\n",
    "    print(f\"Found existing matches at {target_match_dir}, loading it\")\n",
    "    match_outputs = torch.load(target_match_dir)\n",
    "else:\n",
    "    max_query_pts = 4096 if len(images) < 500 else 2048\n",
    "    match_outputs = vggt_extract_matches(model, extrinsic, intrinsic,depth_conf, track_feats, \n",
    "                                         base_image_path_list, max_query_pts, device=device)\n",
    "    # match_outputs = opt_utils.extract_matches(extrinsic, intrinsic, images, base_image_path_list, max_query_pts)\n",
    "    match_outputs[\"original_width\"] = images.shape[-1]\n",
    "    match_outputs[\"original_height\"] = images.shape[-2]\n",
    "    # torch.save(match_outputs, target_match_dir)\n",
    "    # print(f\"Saved matches to {target_match_dir}\")"
   ]
  },
  {
   "cell_type": "markdown",
   "metadata": {},
   "source": [
    "## 2. Optimize Pose"
   ]
  },
  {
   "cell_type": "code",
   "execution_count": 21,
   "metadata": {},
   "outputs": [],
   "source": [
    "def pose_optimization(match_outputs, \n",
    "                      extrinsic, \n",
    "                      intrinsic, \n",
    "                      images, \n",
    "                      depth_map, \n",
    "                      depth_conf, \n",
    "                      base_image_path_list, \n",
    "                      device='cuda',\n",
    "                      lr_base=None,\n",
    "                      lr_end=None,\n",
    "                      min_thr=50.0,\n",
    "                      max_thr=200.0,\n",
    "                      lambda_3d=0.1,\n",
    "                      lambda_epi=1.0,\n",
    "                      niter=300,\n",
    "                      target_scene_dir=None,\n",
    "                      shared_intrinsics=True):\n",
    "    \n",
    "    torch.cuda.empty_cache()\n",
    "    \n",
    "    if lr_base is None or lr_end is None:\n",
    "        lr_base, lr_end = opt_utils.get_default_lr(match_outputs[\"epipolar_err\"])\n",
    "    \n",
    "    with torch.no_grad():\n",
    "        imsizes = torch.tensor([images.shape[-1], images.shape[-2]]).float()\n",
    "        diags = torch.norm(imsizes)\n",
    "        min_focals = 0.25 * diags  # diag = 1.2~1.4*max(W,H) => beta >= 1/(2*1.2*tan(fov/2)) ~= 0.26\n",
    "        max_focals = 10 * diags\n",
    "\n",
    "        qvec = roma.rotmat_to_unitquat(torch.tensor(extrinsic[:, :3, :3]))\n",
    "        tvec = torch.tensor(extrinsic[:, :3, 3])\n",
    "        log_sizes = torch.zeros(len(qvec))\n",
    "\n",
    "        pps = torch.tensor(intrinsic[:, :2, 2]) / imsizes[None, :2]  # default principal_point would be (0.5, 0.5)\n",
    "        base_focals = torch.tensor((intrinsic[:, 0, 0] + intrinsic[:, 1, 1]) / 2)\n",
    "\n",
    "        # intrinsics parameters\n",
    "        if shared_intrinsics:\n",
    "            # Optimize a single set of intrinsics for all cameras. Use averages as init.\n",
    "            confs = depth_conf.mean(axis=(1, 2))\n",
    "            weighting = torch.tensor(confs / confs.sum())\n",
    "            pps = weighting @ pps\n",
    "            pps = pps.view(1, -1)\n",
    "            focal_m = weighting @ base_focals\n",
    "            log_focals = focal_m.view(1).log()\n",
    "        else:\n",
    "            log_focals = base_focals.log()\n",
    "\n",
    "        corr_points_i = match_outputs[\"corr_points_i\"].clone()\n",
    "        corr_points_j = match_outputs[\"corr_points_j\"].clone()\n",
    "        corr_weights = match_outputs[\"corr_weights\"].clone()\n",
    "        num_matches = match_outputs[\"num_matches\"]\n",
    "        indexes_i = [base_image_path_list.index(img_name) for img_name in match_outputs[\"image_names_i\"]]\n",
    "        indexes_j = [base_image_path_list.index(img_name) for img_name in match_outputs[\"image_names_j\"]]\n",
    "        imsizes = imsizes.to(corr_points_i.device)\n",
    "        \n",
    "    qvec = qvec.to(device)\n",
    "    tvec = tvec.to(device)\n",
    "    log_sizes = log_sizes.to(device)\n",
    "    min_focals = min_focals.to(device)\n",
    "    max_focals = max_focals.to(device)\n",
    "    imsizes = imsizes.to(device)\n",
    "    pps = pps.to(device)\n",
    "    log_focals = log_focals.to(device)\n",
    "\n",
    "    corr_points_i = corr_points_i.to(device)\n",
    "    corr_points_j = corr_points_j.to(device)\n",
    "    corr_weight_valid = corr_weights.to(device)\n",
    "    corr_weight_valid = corr_weight_valid**(0.5)\n",
    "    corr_weight_valid /= corr_weight_valid.mean()\n",
    "\n",
    "    params = [{\n",
    "        \"params\": [\n",
    "            qvec.requires_grad_(True), \n",
    "            tvec.requires_grad_(True), \n",
    "            log_sizes.requires_grad_(True),\n",
    "            log_focals.requires_grad_(True),\n",
    "            pps.requires_grad_(True)\n",
    "        ],\n",
    "        \"name\": [\"qvec\", \"tvec\", \"log_sizes\", \"log_focals\", \"pps\"],\n",
    "    }]\n",
    "\n",
    "    optimizer = torch.optim.Adam(params, lr=1, weight_decay=0, betas=(0.9, 0.9))\n",
    "     ##### Get all the pruning thresholds #####\n",
    "    thr_list = torch.linspace(\n",
    "        min_thr, max_thr, niter, device=device\n",
    "    )  # (num_prune_steps,)\n",
    "    thr_list = thr_list.flip(0)  # (num_prune_steps,) from large to small\n",
    "    thr_list = thr_list.tolist()  # list\n",
    "\n",
    "    loss_list = []\n",
    "    for iter in tqdm(range(niter or 1), desc=\"Pose Optimization...\"):\n",
    "\n",
    "        repeat_cnt = 1 if len(qvec) else shared_intrinsics\n",
    "        \n",
    "        K, (w2cam, cam2w) = opt_utils.make_K_cam_depth(log_focals.repeat(repeat_cnt), pps.repeat(repeat_cnt, 1), tvec, qvec, min_focals, max_focals, imsizes)\n",
    "        \n",
    "        alpha = (iter / niter)\n",
    "        lr = opt_utils.cosine_schedule(alpha, lr_base, lr_end)\n",
    "        opt_utils.adjust_learning_rate_by_lr(optimizer, lr)\n",
    "        optimizer.zero_grad()\n",
    "\n",
    "        Ks_i = K[indexes_i]\n",
    "        Ks_j = K[indexes_j]\n",
    "        w2cam_i = w2cam[indexes_i]\n",
    "        w2cam_j = w2cam[indexes_j]\n",
    "\n",
    "        loss = 0.0\n",
    "\n",
    "        # batchify the computation to avoid OOM\n",
    "        P_i = Ks_i @ w2cam_i\n",
    "        P_j = Ks_j @ w2cam_j\n",
    "        Fm = kornia.geometry.epipolar.fundamental_from_projections(P_i[:, :3], P_j[:, :3])\n",
    "        err = kornia.geometry.symmetrical_epipolar_distance(corr_points_i, corr_points_j, Fm, squared=False, eps=1e-08)\n",
    "        loss = (err * corr_weight_valid.squeeze(-1)).sum() / (corr_weight_valid > 0).sum() * lambda_epi\n",
    "\n",
    "        loss_list.append(loss.item())\n",
    "\n",
    "        loss.backward()\n",
    "        optimizer.step()\n",
    "\n",
    "        corr_weight_valid[corr_weight_valid > thr_list[iter]] = 0.0\n",
    "\n",
    "        # plot error histogram\n",
    "        if iter == 0 and target_scene_dir is not None:\n",
    "            plt.style.use(\"seaborn-v0_8-whitegrid\")\n",
    "            plt.figure(figsize=(10, 5))\n",
    "            plt.hist((err * corr_weight_valid.squeeze(-1)).reshape(-1).detach().cpu().numpy(), bins=100, color='blue', alpha=0.7)\n",
    "            plt.xlabel('Epipolar Error')\n",
    "            plt.ylabel('Frequency')\n",
    "            plt.title('Histogram of Epipolar Errors (Before Optimization)')\n",
    "            # plt.savefig(f\"{target_scene_dir}/epipolar_error_hist_before.png\")\n",
    "            # plt.close()\n",
    "    \n",
    "    if target_scene_dir is not None:\n",
    "        plt.style.use(\"seaborn-v0_8-whitegrid\")\n",
    "        plt.figure(figsize=(10, 5))\n",
    "        plt.plot(loss_list, label='Loss')\n",
    "        plt.xlabel('Iteration')\n",
    "        plt.ylabel('Loss Value')\n",
    "        plt.title(f'Loss Curve, final loss={loss_list[-1]:.4f}')\n",
    "        plt.show()\n",
    "        plt.savefig(f\"{target_scene_dir}/loss_curve_pose_opt.png\")\n",
    "\n",
    "    \n",
    "    output_extrinsic = w2cam[:, :3, :4].detach().cpu().numpy()\n",
    "    output_intrinsic = K[:, :3, :3].detach().cpu().numpy()\n",
    "\n",
    "    return output_extrinsic, output_intrinsic"
   ]
  },
  {
   "cell_type": "code",
   "execution_count": 22,
   "metadata": {},
   "outputs": [
    {
     "name": "stdout",
     "output_type": "stream",
     "text": [
      "2.587958335876465\n"
     ]
    }
   ],
   "source": [
    "print(match_outputs[\"epipolar_err\"])"
   ]
  },
  {
   "cell_type": "code",
   "execution_count": 23,
   "metadata": {},
   "outputs": [
    {
     "name": "stderr",
     "output_type": "stream",
     "text": [
      "Pose Optimization...: 100%|██████████| 300/300 [00:06<00:00, 49.97it/s]\n"
     ]
    },
    {
     "data": {
      "image/png": "[encoded data removed]",
      "text/plain": [
       "<Figure size 1000x500 with 1 Axes>"
      ]
     },
     "metadata": {},
     "output_type": "display_data"
    },
    {
     "data": {
      "image/png": "[encoded data removed]",
      "text/plain": [
       "<Figure size 1000x500 with 1 Axes>"
      ]
     },
     "metadata": {},
     "output_type": "display_data"
    },
    {
     "data": {
      "text/plain": [
       "<Figure size 640x480 with 0 Axes>"
      ]
     },
     "metadata": {},
     "output_type": "display_data"
    }
   ],
   "source": [
    "extrinsic_, intrinsic_ = pose_optimization(\n",
    "    match_outputs, extrinsic, intrinsic, images, depth_map, depth_conf,\n",
    "    base_image_path_list, target_scene_dir='./', shared_intrinsics=True,\n",
    "    min_thr=10.0, max_thr=100\n",
    ")"
   ]
  },
  {
   "cell_type": "code",
   "execution_count": 24,
   "metadata": {},
   "outputs": [
    {
     "name": "stdout",
     "output_type": "stream",
     "text": [
      "    --  Umeyama Scale:  4.913330622695729\n",
      "    --  Umeyama Rotation: \n",
      " [[-0.45309384 -0.16068039  0.87686247]\n",
      " [ 0.63371085  0.63375369  0.44358411]\n",
      " [-0.62699005  0.7566625  -0.18532494]]\n",
      "    --  Umeyama Translation: \n",
      " [[-3.29315404]\n",
      " [-0.34032163]\n",
      " [ 2.39905595]]\n",
      "    --  Pair Rot   Error (Deg) of Vanilla:       2.39\n",
      "    --  Pair Trans Error (Deg) of Vanilla:       3.59\n",
      "    --  AUC at 30: 0.8807\n"
     ]
    },
    {
     "ename": "",
     "evalue": "",
     "output_type": "error",
     "traceback": [
      "\u001b[1;31mThe Kernel crashed while executing code in the the current cell or a previous cell. Please review the code in the cell(s) to identify a possible cause of the failure. Click <a href='https://aka.ms/vscodeJupyterKernelCrash'>here</a> for more info. View Jupyter <a href='command:jupyter.viewOutput'>log</a> for further details."
     ]
    }
   ],
   "source": [
    "# pred w2c\n",
    "pred_se3 = torch.eye(4, device=device).unsqueeze(0).repeat(len(extrinsic_), 1, 1)\n",
    "pred_se3[:, :3, :3] = torch.tensor(extrinsic_[:, :3, :3], device=device)\n",
    "pred_se3[:, 3, :3] = torch.tensor(extrinsic_[:, :3, 3], device=device)\n",
    "\n",
    "results = evaluate_auc(pred_se3, gt_se3, device)"
   ]
  }
 ],
 "metadata": {
  "kernelspec": {
   "display_name": "vggt",
   "language": "python",
   "name": "python3"
  },
  "language_info": {
   "codemirror_mode": {
    "name": "ipython",
    "version": 3
   },
   "file_extension": ".py",
   "mimetype": "text/x-python",
   "name": "python",
   "nbconvert_exporter": "python",
   "pygments_lexer": "ipython3",
   "version": "3.10.17"
  }
 },
 "nbformat": 4,
 "nbformat_minor": 2
}
