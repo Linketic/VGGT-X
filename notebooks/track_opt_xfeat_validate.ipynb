{
 "cells": [
  {
   "cell_type": "code",
   "execution_count": 12,
   "metadata": {},
   "outputs": [],
   "source": [
    "%matplotlib inline\n",
    "\n",
    "import os\n",
    "import sys\n",
    "sys.path.append('../')\n",
    "os.environ['CUDA_VISIBLE_DEVICES'] = '7'\n",
    "\n",
    "import glob\n",
    "import random\n",
    "import cv2\n",
    "import numpy as np\n",
    "import networkx as nx\n",
    "import torch\n",
    "import torch.nn.functional as F\n",
    "\n",
    "import roma\n",
    "import kornia\n",
    "import utils.colmap as colmap_utils\n",
    "import utils.opt as opt_utils\n",
    "\n",
    "from tqdm import tqdm\n",
    "from copy import deepcopy\n",
    "from PIL import Image\n",
    "from matplotlib import pyplot as plt\n",
    "\n",
    "from vggt.models.vggt import VGGT\n",
    "from vggt.utils.load_fn import load_and_preprocess_images_ratio\n",
    "from vggt.utils.pose_enc import pose_encoding_to_extri_intri\n",
    "from vggt.utils.geometry import unproject_depth_map_to_point_map\n",
    "\n",
    "from utils.umeyama import umeyama\n",
    "from utils.metric_torch import evaluate_auc, evaluate_pcd\n",
    "\n",
    "seed = 42\n",
    "random.seed(seed)\n",
    "np.random.seed(seed)\n",
    "torch.manual_seed(seed)\n",
    "random.seed(seed)\n",
    "\n",
    "device = \"cuda\" if torch.cuda.is_available() else \"cpu\"\n",
    "# bfloat16 is supported on Ampere GPUs (Compute Capability 8.0+) \n",
    "dtype = torch.bfloat16 if torch.cuda.get_device_capability()[0] >= 8 else torch.float16"
   ]
  },
  {
   "cell_type": "code",
   "execution_count": 13,
   "metadata": {},
   "outputs": [],
   "source": [
    "torch._dynamo.config.accumulated_cache_size_limit = 512\n",
    "\n",
    "def run_VGGT(images, device, dtype):\n",
    "    # images: [B, 3, H, W]\n",
    "\n",
    "    # Run VGGT for camera and depth estimation\n",
    "    model = VGGT()\n",
    "    _URL = \"https://huggingface.co/facebook/VGGT-1B/resolve/main/model.pt\"\n",
    "    model.load_state_dict(torch.hub.load_state_dict_from_url(_URL))\n",
    "    model.eval()\n",
    "    model = model.to(device).to(dtype)\n",
    "    print(f\"Model loaded\")\n",
    "\n",
    "    with torch.no_grad():\n",
    "        predictions = model(images.to(device, dtype), verbose=True)\n",
    "        extrinsic, intrinsic = pose_encoding_to_extri_intri(predictions['pose_enc'], images.shape[-2:])\n",
    "        extrinsic = extrinsic.squeeze(0).cpu().numpy()\n",
    "        intrinsic = intrinsic.squeeze(0).cpu().numpy()\n",
    "        depth_map = predictions['depth'].squeeze(0).cpu().numpy()\n",
    "        depth_conf = predictions['depth_conf'].squeeze(0).cpu().numpy()\n",
    "    \n",
    "    return extrinsic, intrinsic, depth_map, depth_conf"
   ]
  },
  {
   "cell_type": "code",
   "execution_count": 14,
   "metadata": {},
   "outputs": [],
   "source": [
    "# Get image paths and preprocess them\n",
    "data_dir = \"../data/MipNeRF360/flowers\"\n",
    "sparse_dir_gt = os.path.join(data_dir, \"sparse\", \"0\")\n",
    "dust_dir = os.path.join(data_dir, \"mast3r\")\n",
    "image_dir = os.path.join(data_dir, \"images\")\n",
    "scene = os.path.basename(data_dir)\n",
    "\n",
    "cameras_gt = colmap_utils.read_cameras_binary(os.path.join(sparse_dir_gt, \"cameras.bin\"))\n",
    "images_gt = colmap_utils.read_images_binary(os.path.join(sparse_dir_gt, \"images.bin\"))\n",
    "pcd_gt = colmap_utils.read_points3D_binary(os.path.join(sparse_dir_gt, \"points3D.bin\"))\n",
    "# images_gt = dict(sorted(images_gt.items(), key=lambda item: item[0]))"
   ]
  },
  {
   "cell_type": "code",
   "execution_count": 15,
   "metadata": {},
   "outputs": [],
   "source": [
    "images_gt_keys = list(images_gt.keys())\n",
    "random.shuffle(images_gt_keys)\n",
    "images_gt_updated = {id: images_gt[id] for id in list(images_gt_keys)}\n",
    "image_path_list = [os.path.join(image_dir, images_gt_updated[id].name) for id in images_gt_updated.keys()]\n",
    "base_image_path_list = [os.path.basename(path) for path in image_path_list]\n",
    "\n",
    "img_load_resolution = 518\n",
    "images, original_coords = load_and_preprocess_images_ratio(image_path_list, img_load_resolution)\n",
    "original_coords = original_coords.to(device)"
   ]
  },
  {
   "cell_type": "code",
   "execution_count": 16,
   "metadata": {},
   "outputs": [
    {
     "name": "stdout",
     "output_type": "stream",
     "text": [
      "Model loaded\n",
      "Running patch embedding\n"
     ]
    },
    {
     "name": "stderr",
     "output_type": "stream",
     "text": [
      "Running attention: 100%|██████████| 24/24 [00:23<00:00,  1.04it/s]\n"
     ]
    },
    {
     "name": "stdout",
     "output_type": "stream",
     "text": [
      "Running camera head\n",
      "Running depth head\n",
      "Running point head\n",
      "Running track head\n"
     ]
    }
   ],
   "source": [
    "extrinsic, intrinsic, depth_map, depth_conf = run_VGGT(images, device, dtype)\n",
    "torch.cuda.empty_cache()"
   ]
  },
  {
   "cell_type": "code",
   "execution_count": 17,
   "metadata": {},
   "outputs": [
    {
     "name": "stdout",
     "output_type": "stream",
     "text": [
      "    --  Umeyama Scale:  6.20145490893783\n",
      "    --  Umeyama Rotation: \n",
      " [[-0.49476862 -0.03852402  0.86817045]\n",
      " [-0.27365954  0.95509726 -0.11357673]\n",
      " [-0.82481182 -0.29377732 -0.48309461]]\n",
      "    --  Umeyama Translation: \n",
      " [[-3.2881005 ]\n",
      " [ 1.10607704]\n",
      " [ 1.42579584]]\n",
      "    --  Pair Rot   Error (Deg) of Vanilla:       3.05\n",
      "    --  Pair Trans Error (Deg) of Vanilla:       3.36\n",
      "    --  AUC at 30: 0.8731\n"
     ]
    }
   ],
   "source": [
    "fl_gt = torch.tensor([cameras_gt[image.camera_id].params[0:2] for image in images_gt_updated.values()], device=device)\n",
    "translation_gt = torch.tensor([image.tvec for image in images_gt_updated.values()], device=device)\n",
    "rotation_gt = torch.tensor([colmap_utils.qvec2rotmat(image.qvec) for image in images_gt_updated.values()], device=device)\n",
    "\n",
    "# gt w2c\n",
    "gt_se3 = torch.eye(4, device=device).unsqueeze(0).repeat(len(images_gt_updated), 1, 1)\n",
    "gt_se3[:, :3, :3] = rotation_gt\n",
    "gt_se3[:, 3, :3] = translation_gt\n",
    "\n",
    "# pred w2c\n",
    "pred_se3 = torch.eye(4, device=device).unsqueeze(0).repeat(len(images_gt_updated), 1, 1)\n",
    "pred_se3[:, :3, :3] = torch.tensor(extrinsic[:, :3, :3], device=device)\n",
    "pred_se3[:, 3, :3] = torch.tensor(extrinsic[:, :3, 3], device=device)\n",
    "\n",
    "results = evaluate_auc(pred_se3, gt_se3, device)"
   ]
  },
  {
   "cell_type": "markdown",
   "metadata": {},
   "source": [
    "## 1. Calculate Tracking"
   ]
  },
  {
   "cell_type": "code",
   "execution_count": 58,
   "metadata": {},
   "outputs": [
    {
     "name": "stdout",
     "output_type": "stream",
     "text": [
      "Total candidate image pairs found:  1907\n"
     ]
    },
    {
     "name": "stderr",
     "output_type": "stream",
     "text": [
      "Matching image pairs...: 100%|██████████| 15/15 [00:08<00:00,  1.68it/s]\n"
     ]
    }
   ],
   "source": [
    "target_match_dir = f\"./matches_{scene}.pt\"\n",
    "if os.path.exists(target_match_dir):\n",
    "    print(f\"Found existing matches at {target_match_dir}, loading it\")\n",
    "    match_outputs = torch.load(target_match_dir)\n",
    "else:\n",
    "    max_query_pts = 4096 if len(images) < 500 else 2048\n",
    "    match_outputs = opt_utils.extract_matches(extrinsic, intrinsic, images, base_image_path_list, max_query_pts, err_range=60)\n",
    "    match_outputs[\"original_width\"] = images.shape[-1]\n",
    "    match_outputs[\"original_height\"] = images.shape[-2]\n",
    "    # torch.save(match_outputs, target_match_dir)\n",
    "    # print(f\"Saved matches to {target_match_dir}\")"
   ]
  },
  {
   "cell_type": "markdown",
   "metadata": {},
   "source": [
    "## 2. Optimize Pose"
   ]
  },
  {
   "cell_type": "code",
   "execution_count": 59,
   "metadata": {},
   "outputs": [],
   "source": [
    "def pose_optimization(match_outputs, \n",
    "                      extrinsic, \n",
    "                      intrinsic, \n",
    "                      images, \n",
    "                      depth_map, \n",
    "                      depth_conf, \n",
    "                      base_image_path_list, \n",
    "                      device='cuda',\n",
    "                      lr_base=None,\n",
    "                      lr_end=None,\n",
    "                      min_thr=50.0,\n",
    "                      max_thr=200.0,\n",
    "                      lambda_3d=0.1,\n",
    "                      lambda_epi=1.0,\n",
    "                      niter=300,\n",
    "                      target_scene_dir=None,\n",
    "                      shared_intrinsics=True):\n",
    "    \n",
    "    torch.cuda.empty_cache()\n",
    "    \n",
    "    if lr_base is None or lr_end is None:\n",
    "        lr_base, lr_end = opt_utils.get_default_lr(match_outputs[\"epipolar_err\"])\n",
    "    \n",
    "    with torch.no_grad():\n",
    "        imsizes = torch.tensor([images.shape[-1], images.shape[-2]]).float()\n",
    "        diags = torch.norm(imsizes)\n",
    "        min_focals = 0.25 * diags  # diag = 1.2~1.4*max(W,H) => beta >= 1/(2*1.2*tan(fov/2)) ~= 0.26\n",
    "        max_focals = 10 * diags\n",
    "\n",
    "        qvec = roma.rotmat_to_unitquat(torch.tensor(extrinsic[:, :3, :3]))\n",
    "        tvec = torch.tensor(extrinsic[:, :3, 3])\n",
    "        log_sizes = torch.zeros(len(qvec))\n",
    "\n",
    "        pps = torch.tensor(intrinsic[:, :2, 2]) / imsizes[None, :2]  # default principal_point would be (0.5, 0.5)\n",
    "        base_focals = torch.tensor((intrinsic[:, 0, 0] + intrinsic[:, 1, 1]) / 2)\n",
    "\n",
    "        # intrinsics parameters\n",
    "        if shared_intrinsics:\n",
    "            # Optimize a single set of intrinsics for all cameras. Use averages as init.\n",
    "            confs = depth_conf.mean(axis=(1, 2))\n",
    "            weighting = torch.tensor(confs / confs.sum())\n",
    "            pps = weighting @ pps\n",
    "            pps = pps.view(1, -1)\n",
    "            focal_m = weighting @ base_focals\n",
    "            log_focals = focal_m.view(1).log()\n",
    "        else:\n",
    "            log_focals = base_focals.log()\n",
    "\n",
    "        corr_points_i = match_outputs[\"corr_points_i\"].clone()\n",
    "        corr_points_j = match_outputs[\"corr_points_j\"].clone()\n",
    "        corr_weights = match_outputs[\"corr_weights\"].clone()\n",
    "        num_matches = match_outputs[\"num_matches\"]\n",
    "        indexes_i = [base_image_path_list.index(img_name) for img_name in match_outputs[\"image_names_i\"]]\n",
    "        indexes_j = [base_image_path_list.index(img_name) for img_name in match_outputs[\"image_names_j\"]]\n",
    "        imsizes = imsizes.to(corr_points_i.device)\n",
    "        \n",
    "    qvec = qvec.to(device)\n",
    "    tvec = tvec.to(device)\n",
    "    log_sizes = log_sizes.to(device)\n",
    "    min_focals = min_focals.to(device)\n",
    "    max_focals = max_focals.to(device)\n",
    "    imsizes = imsizes.to(device)\n",
    "    pps = pps.to(device)\n",
    "    log_focals = log_focals.to(device)\n",
    "\n",
    "    corr_points_i = corr_points_i.to(device)\n",
    "    corr_points_j = corr_points_j.to(device)\n",
    "    corr_weight_valid = corr_weights.to(device)\n",
    "    corr_weight_valid = corr_weight_valid**(0.5)\n",
    "    corr_weight_valid /= corr_weight_valid.mean()\n",
    "\n",
    "    params = [{\n",
    "        \"params\": [\n",
    "            qvec.requires_grad_(True), \n",
    "            tvec.requires_grad_(True), \n",
    "            log_sizes.requires_grad_(True),\n",
    "            log_focals.requires_grad_(True),\n",
    "            pps.requires_grad_(True)\n",
    "        ],\n",
    "        \"name\": [\"qvec\", \"tvec\", \"log_sizes\", \"log_focals\", \"pps\"],\n",
    "    }]\n",
    "\n",
    "    optimizer = torch.optim.Adam(params, lr=1, weight_decay=0, betas=(0.9, 0.9))\n",
    "     ##### Get all the pruning thresholds #####\n",
    "    thr_list = torch.linspace(\n",
    "        min_thr, max_thr, niter, device=device\n",
    "    )  # (num_prune_steps,)\n",
    "    thr_list = thr_list.flip(0)  # (num_prune_steps,) from large to small\n",
    "    thr_list = thr_list.tolist()  # list\n",
    "\n",
    "    loss_list = []\n",
    "    for iter in tqdm(range(niter or 1), desc=\"Pose Optimization...\"):\n",
    "\n",
    "        repeat_cnt = 1 if len(qvec) else shared_intrinsics\n",
    "        \n",
    "        K, (w2cam, cam2w) = opt_utils.make_K_cam_depth(log_focals.repeat(repeat_cnt), pps.repeat(repeat_cnt, 1), tvec, qvec, min_focals, max_focals, imsizes)\n",
    "        \n",
    "        alpha = (iter / niter)\n",
    "        lr = opt_utils.cosine_schedule(alpha, lr_base, lr_end)\n",
    "        opt_utils.adjust_learning_rate_by_lr(optimizer, lr)\n",
    "        optimizer.zero_grad()\n",
    "\n",
    "        Ks_i = K[indexes_i]\n",
    "        Ks_j = K[indexes_j]\n",
    "        w2cam_i = w2cam[indexes_i]\n",
    "        w2cam_j = w2cam[indexes_j]\n",
    "\n",
    "        loss = 0.0\n",
    "\n",
    "        # batchify the computation to avoid OOM\n",
    "        P_i = Ks_i @ w2cam_i\n",
    "        P_j = Ks_j @ w2cam_j\n",
    "        Fm = kornia.geometry.epipolar.fundamental_from_projections(P_i[:, :3], P_j[:, :3])\n",
    "        err = kornia.geometry.symmetrical_epipolar_distance(corr_points_i, corr_points_j, Fm, squared=False, eps=1e-08)\n",
    "        loss = (err * corr_weight_valid.squeeze(-1)).sum() / (corr_weight_valid > 0).sum() * lambda_epi\n",
    "\n",
    "        loss_list.append(loss.item())\n",
    "\n",
    "        loss.backward()\n",
    "        optimizer.step()\n",
    "\n",
    "        corr_weight_valid[corr_weight_valid > thr_list[iter]] = 0.0\n",
    "\n",
    "        # plot error histogram\n",
    "        if iter == 0 and target_scene_dir is not None:\n",
    "            plt.style.use(\"seaborn-v0_8-whitegrid\")\n",
    "            plt.figure(figsize=(10, 5))\n",
    "            plt.hist(err.reshape(-1).detach().cpu().numpy(), bins=100, color='blue', alpha=0.7)\n",
    "            plt.xlabel('Epipolar Error')\n",
    "            plt.ylabel('Frequency')\n",
    "            plt.title('Histogram of Epipolar Errors (Before Optimization)')\n",
    "            # plt.savefig(f\"{target_scene_dir}/epipolar_error_hist_before.png\")\n",
    "            # plt.close()\n",
    "    \n",
    "    if target_scene_dir is not None:\n",
    "        plt.style.use(\"seaborn-v0_8-whitegrid\")\n",
    "        plt.figure(figsize=(10, 5))\n",
    "        plt.plot(loss_list, label='Loss')\n",
    "        plt.xlabel('Iteration')\n",
    "        plt.ylabel('Loss Value')\n",
    "        plt.title(f'Loss Curve, final loss={loss_list[-1]:.4f}')\n",
    "        plt.show()\n",
    "        plt.savefig(f\"{target_scene_dir}/loss_curve_pose_opt.png\")\n",
    "\n",
    "    \n",
    "    output_extrinsic = w2cam[:, :3, :4].detach().cpu().numpy()\n",
    "    output_intrinsic = K[:, :3, :3].detach().cpu().numpy()\n",
    "\n",
    "    return output_extrinsic, output_intrinsic"
   ]
  },
  {
   "cell_type": "code",
   "execution_count": 60,
   "metadata": {},
   "outputs": [
    {
     "name": "stdout",
     "output_type": "stream",
     "text": [
      "7.987223148345947\n"
     ]
    }
   ],
   "source": [
    "print(match_outputs[\"epipolar_err\"])"
   ]
  },
  {
   "cell_type": "code",
   "execution_count": 61,
   "metadata": {},
   "outputs": [
    {
     "name": "stderr",
     "output_type": "stream",
     "text": [
      "Pose Optimization...: 100%|██████████| 300/300 [00:07<00:00, 40.15it/s]\n"
     ]
    },
    {
     "data": {
      "image/png": "[encoded data removed]",
      "text/plain": [
       "<Figure size 1000x500 with 1 Axes>"
      ]
     },
     "metadata": {},
     "output_type": "display_data"
    },
    {
     "data": {
      "image/png": "[encoded data removed]",
      "text/plain": [
       "<Figure size 1000x500 with 1 Axes>"
      ]
     },
     "metadata": {},
     "output_type": "display_data"
    },
    {
     "data": {
      "text/plain": [
       "<Figure size 640x480 with 0 Axes>"
      ]
     },
     "metadata": {},
     "output_type": "display_data"
    }
   ],
   "source": [
    "extrinsic_, intrinsic_ = pose_optimization(\n",
    "    match_outputs, extrinsic, intrinsic, images, depth_map, depth_conf,\n",
    "    base_image_path_list, target_scene_dir='./', shared_intrinsics=True,\n",
    ")"
   ]
  },
  {
   "cell_type": "code",
   "execution_count": 62,
   "metadata": {},
   "outputs": [
    {
     "name": "stdout",
     "output_type": "stream",
     "text": [
      "    --  Umeyama Scale:  5.636894633560796\n",
      "    --  Umeyama Rotation: \n",
      " [[-0.48733393 -0.04440629  0.87208582]\n",
      " [-0.27168738  0.95684702 -0.10310047]\n",
      " [-0.82987446 -0.28717907 -0.47836868]]\n",
      "    --  Umeyama Translation: \n",
      " [[-2.99368231]\n",
      " [ 0.98672547]\n",
      " [ 1.26949855]]\n",
      "    --  Pair Rot   Error (Deg) of Vanilla:       1.17\n",
      "    --  Pair Trans Error (Deg) of Vanilla:       1.06\n",
      "    --  AUC at 30: 0.9692\n"
     ]
    }
   ],
   "source": [
    "# pred w2c\n",
    "pred_se3 = torch.eye(4, device=device).unsqueeze(0).repeat(len(extrinsic_), 1, 1)\n",
    "pred_se3[:, :3, :3] = torch.tensor(extrinsic_[:, :3, :3], device=device)\n",
    "pred_se3[:, 3, :3] = torch.tensor(extrinsic_[:, :3, 3], device=device)\n",
    "\n",
    "results = evaluate_auc(pred_se3, gt_se3, device)"
   ]
  }
 ],
 "metadata": {
  "kernelspec": {
   "display_name": "vggt",
   "language": "python",
   "name": "python3"
  },
  "language_info": {
   "codemirror_mode": {
    "name": "ipython",
    "version": 3
   },
   "file_extension": ".py",
   "mimetype": "text/x-python",
   "name": "python",
   "nbconvert_exporter": "python",
   "pygments_lexer": "ipython3",
   "version": "3.10.17"
  }
 },
 "nbformat": 4,
 "nbformat_minor": 2
}
